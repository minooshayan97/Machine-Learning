{
 "cells": [
  {
   "cell_type": "code",
   "execution_count": 1,
   "metadata": {},
   "outputs": [],
   "source": [
    "import numpy as np"
   ]
  },
  {
   "cell_type": "code",
   "execution_count": 2,
   "metadata": {},
   "outputs": [
    {
     "data": {
      "text/plain": [
       "['y', 'x2', 'x2_test', 'x1', 'y_test', 'x1_test']"
      ]
     },
     "execution_count": 2,
     "metadata": {},
     "output_type": "execute_result"
    }
   ],
   "source": [
    "db = np.load('data.npz')\n",
    "db.files"
   ]
  },
  {
   "cell_type": "code",
   "execution_count": 3,
   "metadata": {},
   "outputs": [],
   "source": [
    "x1_train = db['x1']\n",
    "x2_train = db['x2']\n",
    "y_train = db['y']\n",
    "train_size = y_train.size\n",
    "x1_test = db['x1_test']\n",
    "x2_test = db['x2_test']\n",
    "y_test = db['y_test']\n",
    "test_size = y_test.size"
   ]
  },
  {
   "cell_type": "code",
   "execution_count": 4,
   "metadata": {},
   "outputs": [],
   "source": [
    "def poly_features(x1,x2,degree):\n",
    "    s = degree + 1\n",
    "    col = []\n",
    "    features = []\n",
    "    for i in range(0,s):\n",
    "        for j in range(0,s-i):\n",
    "            features.append((x1**i)*(x2**j))\n",
    "            col.append((i,j))\n",
    "    return {'colunm':col, 'matrix' : np.column_stack(features)}"
   ]
  },
  {
   "cell_type": "code",
   "execution_count": 5,
   "metadata": {},
   "outputs": [],
   "source": [
    "def multivar_poly_regression(x,y):\n",
    "    x_pinv = np.linalg.pinv(x)\n",
    "    w = np.matmul(x_pinv,y)\n",
    "    return w"
   ]
  },
  {
   "cell_type": "code",
   "execution_count": 6,
   "metadata": {},
   "outputs": [],
   "source": [
    "def sum_squere_error (y1, y2):\n",
    "    return sum([(y1[i]-y2[i])**2 for i in range(0,y1.size)])"
   ]
  },
  {
   "cell_type": "markdown",
   "metadata": {},
   "source": [
    "# a) linear regresssion"
   ]
  },
  {
   "cell_type": "code",
   "execution_count": 7,
   "metadata": {},
   "outputs": [
    {
     "data": {
      "text/plain": [
       "array([-4226.07005149,   446.63582426,   537.30127365])"
      ]
     },
     "execution_count": 7,
     "metadata": {},
     "output_type": "execute_result"
    }
   ],
   "source": [
    "x_mat1 = poly_features(x1_train,x2_train,1)\n",
    "reg1 = multivar_poly_regression(x_mat1['matrix'],y_train)\n",
    "reg1"
   ]
  },
  {
   "cell_type": "code",
   "execution_count": 8,
   "metadata": {},
   "outputs": [
    {
     "data": {
      "text/plain": [
       "18317759690.368008"
      ]
     },
     "execution_count": 8,
     "metadata": {},
     "output_type": "execute_result"
    }
   ],
   "source": [
    "y_hat_train1 = np.matmul(x_mat1['matrix'], reg1)\n",
    "SSEtrain1 = sum_squere_error(y_hat_train1, y_train)\n",
    "SSEtrain1"
   ]
  },
  {
   "cell_type": "code",
   "execution_count": 9,
   "metadata": {},
   "outputs": [
    {
     "data": {
      "text/plain": [
       "12944759955.772043"
      ]
     },
     "execution_count": 9,
     "metadata": {},
     "output_type": "execute_result"
    }
   ],
   "source": [
    "test_mat1 = poly_features(x1_test, x2_test, 1)\n",
    "y_hat_test1 = np.matmul(test_mat1['matrix'], reg1)\n",
    "SSEtest1 = sum_squere_error(y_hat_test1, y_test)\n",
    "SSEtest1 "
   ]
  },
  {
   "cell_type": "markdown",
   "metadata": {},
   "source": [
    "# a) 3rd degree polynomial regression"
   ]
  },
  {
   "cell_type": "code",
   "execution_count": 10,
   "metadata": {},
   "outputs": [
    {
     "data": {
      "text/plain": [
       "array([ 1.00000000e+00,  3.62376795e-13,  2.00000000e+00, -4.12170298e-15,\n",
       "        3.00000000e+00,  6.03961325e-14,  4.00000000e+00,  6.75015599e-14,\n",
       "       -7.66053887e-15,  2.55351296e-15])"
      ]
     },
     "execution_count": 10,
     "metadata": {},
     "output_type": "execute_result"
    }
   ],
   "source": [
    "x_mat2 = poly_features(x1_train, x2_train,3)\n",
    "reg2 = multivar_poly_regression(x_mat2['matrix'], y_train)\n",
    "reg2"
   ]
  },
  {
   "cell_type": "code",
   "execution_count": 11,
   "metadata": {},
   "outputs": [
    {
     "data": {
      "text/plain": [
       "1.6877332437997384e-18"
      ]
     },
     "execution_count": 11,
     "metadata": {},
     "output_type": "execute_result"
    }
   ],
   "source": [
    "y_hat_train2 = np.matmul(x_mat2['matrix'], reg2)\n",
    "SSEtrain2 = sum_squere_error(y_hat_train2, y_train)\n",
    "SSEtrain2"
   ]
  },
  {
   "cell_type": "code",
   "execution_count": 12,
   "metadata": {},
   "outputs": [
    {
     "data": {
      "text/plain": [
       "7.636451083577081e-19"
      ]
     },
     "execution_count": 12,
     "metadata": {},
     "output_type": "execute_result"
    }
   ],
   "source": [
    "test_mat2 = poly_features(x1_test, x2_test, 3)\n",
    "y_hat_test2 = np.matmul(test_mat2['matrix'], reg2)\n",
    "SSEtest2 = sum_squere_error(y_hat_test2, y_test)\n",
    "SSEtest2 "
   ]
  },
  {
   "cell_type": "markdown",
   "metadata": {},
   "source": [
    "# a) 5th degree polynomial regression"
   ]
  },
  {
   "cell_type": "code",
   "execution_count": 13,
   "metadata": {},
   "outputs": [
    {
     "data": {
      "text/plain": [
       "array([ 1.00000000e+00, -3.41628947e-11,  2.00000000e+00,  1.11910481e-13,\n",
       "       -8.71525074e-15,  2.24646690e-16,  3.00000000e+00,  8.77520279e-12,\n",
       "        4.00000000e+00, -5.55111512e-16,  2.51534904e-17,  3.38218342e-12,\n",
       "       -1.56319402e-13,  1.16573418e-14, -9.04658293e-16, -2.06057393e-13,\n",
       "       -9.76996262e-15,  5.75928194e-16,  4.26325641e-14,  8.29197822e-16,\n",
       "       -1.24900090e-15])"
      ]
     },
     "execution_count": 13,
     "metadata": {},
     "output_type": "execute_result"
    }
   ],
   "source": [
    "x_mat3 = poly_features(x1_train, x2_train,5)\n",
    "reg3 = multivar_poly_regression(x_mat3['matrix'], y_train)\n",
    "reg3"
   ]
  },
  {
   "cell_type": "code",
   "execution_count": 14,
   "metadata": {},
   "outputs": [
    {
     "data": {
      "text/plain": [
       "7.823644442756832e-17"
      ]
     },
     "execution_count": 14,
     "metadata": {},
     "output_type": "execute_result"
    }
   ],
   "source": [
    "y_hat_train3 = np.matmul(x_mat3['matrix'], reg3)\n",
    "SSEtrain3 = sum_squere_error(y_hat_train3, y_train)\n",
    "SSEtrain3"
   ]
  },
  {
   "cell_type": "code",
   "execution_count": 15,
   "metadata": {},
   "outputs": [
    {
     "data": {
      "text/plain": [
       "6.206512135546437e-17"
      ]
     },
     "execution_count": 15,
     "metadata": {},
     "output_type": "execute_result"
    }
   ],
   "source": [
    "test_mat3 = poly_features(x1_test, x2_test, 5)\n",
    "y_hat_test3 = np.matmul(test_mat3['matrix'], reg3)\n",
    "SSEtest3 = sum_squere_error(y_hat_test3, y_test)\n",
    "SSEtest3 "
   ]
  },
  {
   "cell_type": "markdown",
   "metadata": {},
   "source": [
    "# b) linear regression"
   ]
  },
  {
   "cell_type": "code",
   "execution_count": 16,
   "metadata": {},
   "outputs": [],
   "source": [
    "import matplotlib.pyplot as plt"
   ]
  },
  {
   "cell_type": "code",
   "execution_count": 17,
   "metadata": {},
   "outputs": [],
   "source": [
    "def grad_descent(x, y, rate, ite):\n",
    "    gamma = rate\n",
    "    n = y.size\n",
    "    w = np.random.randn(x[1].size)\n",
    "    counter = 0\n",
    "    mse =[]\n",
    "    i = []\n",
    "    while (counter < ite):\n",
    "        MSE = sum_squere_error(np.matmul(x, w),y)/n\n",
    "        i.append(counter)\n",
    "        mse.append(MSE)\n",
    "        xw =np.matmul(x,w)\n",
    "        grad = np.matmul(x.T, y - xw)\n",
    "        w = w + gamma * grad\n",
    "        counter += 1 \n",
    "    MSE = sum_squere_error(np.matmul(x, w),y)/n\n",
    "    mse.append(MSE)\n",
    "    i.append(counter)\n",
    "    return {'iteration': i, 'weight': w , 'mse' :mse}"
   ]
  },
  {
   "cell_type": "code",
   "execution_count": 18,
   "metadata": {},
   "outputs": [
    {
     "data": {
      "image/png": "[encoded data removed]",
      "text/plain": [
       "<Figure size 432x288 with 1 Axes>"
      ]
     },
     "metadata": {
      "needs_background": "light"
     },
     "output_type": "display_data"
    }
   ],
   "source": [
    "plt.xlabel(\"iterations\")\n",
    "plt.ylabel(\"log10 MSE\")\n",
    "for i in range(5,11):\n",
    "    gd1 = grad_descent(x_mat1['matrix'],y_train,0.1**i,10)\n",
    "    plt.plot(gd1['iteration'], np.log10(gd1['mse']),label='rate = 1e-{}'.format(i))\n",
    "plt.legend()\n",
    "#plt.savefig('11.png',dpi=300)"
   ]
  },
  {
   "cell_type": "code",
   "execution_count": 19,
   "metadata": {},
   "outputs": [
    {
     "data": {
      "image/png": "[encoded data removed]",
      "text/plain": [
       "<Figure size 432x288 with 1 Axes>"
      ]
     },
     "metadata": {
      "needs_background": "light"
     },
     "output_type": "display_data"
    }
   ],
   "source": [
    "plt.xlabel(\"iterations\")\n",
    "plt.ylabel(\"log10 MSE\")\n",
    "for i in range(6,10):\n",
    "    gd1 = grad_descent(x_mat1['matrix'],y_train,0.1**i,100)\n",
    "    plt.plot(gd1['iteration'], np.log10(gd1['mse']),label='rate = 1e-{}'.format(i))\n",
    "plt.legend()\n",
    "#plt.savefig('12.png',dpi=300)"
   ]
  },
  {
   "cell_type": "code",
   "execution_count": 20,
   "metadata": {},
   "outputs": [
    {
     "data": {
      "text/plain": [
       "array([-22.08027839, 274.66577143, 154.63077927])"
      ]
     },
     "execution_count": 20,
     "metadata": {},
     "output_type": "execute_result"
    }
   ],
   "source": [
    "gd1 = grad_descent(x_mat1['matrix'],y_train,0.1**7,100)\n",
    "w1 = gd1['weight']\n",
    "w1"
   ]
  },
  {
   "cell_type": "code",
   "execution_count": 21,
   "metadata": {},
   "outputs": [
    {
     "data": {
      "text/plain": [
       "38097270716.17465"
      ]
     },
     "execution_count": 21,
     "metadata": {},
     "output_type": "execute_result"
    }
   ],
   "source": [
    "y_gd_train1 = np.matmul(x_mat1['matrix'], w1)\n",
    "SSEtrainGD1 = sum_squere_error(y_gd_train1, y_train)\n",
    "SSEtrainGD1"
   ]
  },
  {
   "cell_type": "code",
   "execution_count": 22,
   "metadata": {},
   "outputs": [
    {
     "data": {
      "text/plain": [
       "25775186283.36409"
      ]
     },
     "execution_count": 22,
     "metadata": {},
     "output_type": "execute_result"
    }
   ],
   "source": [
    "y_gd_test1 = np.matmul(test_mat1['matrix'], w1)\n",
    "SSEtestGD1 = sum_squere_error(y_gd_test1, y_test)\n",
    "SSEtestGD1"
   ]
  },
  {
   "cell_type": "markdown",
   "metadata": {},
   "source": [
    "# b) 3rd degree polynomial regression"
   ]
  },
  {
   "cell_type": "code",
   "execution_count": 23,
   "metadata": {},
   "outputs": [
    {
     "data": {
      "image/png": "[encoded data removed]",
      "text/plain": [
       "<Figure size 432x288 with 1 Axes>"
      ]
     },
     "metadata": {
      "needs_background": "light"
     },
     "output_type": "display_data"
    }
   ],
   "source": [
    "plt.xlabel(\"iterations\")\n",
    "plt.ylabel(\"log10 MSE\")\n",
    "for i in range(10,16):\n",
    "    gd2 = grad_descent(x_mat2['matrix'],y_train,0.1**i,10)\n",
    "    plt.plot(gd2['iteration'], np.log10(gd2['mse']),label='rate = 1e-{}'.format(i))\n",
    "plt.legend()\n",
    "#plt.savefig('21.png',dpi=300)"
   ]
  },
  {
   "cell_type": "code",
   "execution_count": 24,
   "metadata": {},
   "outputs": [
    {
     "data": {
      "image/png": "[encoded data removed]",
      "text/plain": [
       "<Figure size 432x288 with 1 Axes>"
      ]
     },
     "metadata": {
      "needs_background": "light"
     },
     "output_type": "display_data"
    }
   ],
   "source": [
    "plt.xlabel(\"iterations\")\n",
    "plt.ylabel(\"log10 MSE\")\n",
    "for i in range(11,14):\n",
    "    gd2 = grad_descent(x_mat2['matrix'],y_train,0.1**i,100)\n",
    "    plt.plot(gd2['iteration'], np.log10(gd2['mse']),label='rate = 1e-{}'.format(i))\n",
    "plt.legend()\n",
    "#plt.savefig('22.png',dpi=300)"
   ]
  },
  {
   "cell_type": "code",
   "execution_count": 25,
   "metadata": {},
   "outputs": [
    {
     "data": {
      "text/plain": [
       "array([-0.64149439, -0.47342055,  0.09590134,  0.41992228, -2.04442711,\n",
       "        1.48988695,  2.09382559, -1.65682143,  1.20523848,  1.91695605])"
      ]
     },
     "execution_count": 25,
     "metadata": {},
     "output_type": "execute_result"
    }
   ],
   "source": [
    "gd2 = grad_descent(x_mat2['matrix'],y_train,0.1**11,100)\n",
    "w2 = gd2['weight']\n",
    "w2"
   ]
  },
  {
   "cell_type": "code",
   "execution_count": 26,
   "metadata": {},
   "outputs": [
    {
     "data": {
      "text/plain": [
       "2872831801.8607516"
      ]
     },
     "execution_count": 26,
     "metadata": {},
     "output_type": "execute_result"
    }
   ],
   "source": [
    "y_gd_train2 = np.matmul(x_mat2['matrix'], w2)\n",
    "SSEtrainGD2 = sum_squere_error(y_gd_train2, y_train)\n",
    "SSEtrainGD2"
   ]
  },
  {
   "cell_type": "code",
   "execution_count": 27,
   "metadata": {},
   "outputs": [
    {
     "data": {
      "text/plain": [
       "1882719031.7481675"
      ]
     },
     "execution_count": 27,
     "metadata": {},
     "output_type": "execute_result"
    }
   ],
   "source": [
    "y_gd_test2 = np.matmul(test_mat2['matrix'], w2)\n",
    "SSEtestGD2 = sum_squere_error(y_gd_test2, y_test)\n",
    "SSEtestGD2"
   ]
  },
  {
   "cell_type": "markdown",
   "metadata": {},
   "source": [
    "# b) 5th degree polynomial regression"
   ]
  },
  {
   "cell_type": "code",
   "execution_count": 28,
   "metadata": {},
   "outputs": [
    {
     "data": {
      "image/png": "[encoded data removed]",
      "text/plain": [
       "<Figure size 432x288 with 1 Axes>"
      ]
     },
     "metadata": {
      "needs_background": "light"
     },
     "output_type": "display_data"
    }
   ],
   "source": [
    "plt.xlabel(\"iterations\")\n",
    "plt.ylabel(\"log10 MSE\")\n",
    "for i in range(15,20):\n",
    "    gd3 = grad_descent(x_mat3['matrix'],y_train,0.1**i,10)\n",
    "    plt.plot(gd3['iteration'], np.log10(gd3['mse']),label='rate = 1e-{}'.format(i))\n",
    "plt.legend()\n",
    "#plt.savefig('31.png',dpi=300)"
   ]
  },
  {
   "cell_type": "code",
   "execution_count": 29,
   "metadata": {},
   "outputs": [
    {
     "data": {
      "image/png": "[encoded data removed]",
      "text/plain": [
       "<Figure size 432x288 with 1 Axes>"
      ]
     },
     "metadata": {
      "needs_background": "light"
     },
     "output_type": "display_data"
    }
   ],
   "source": [
    "plt.xlabel(\"iterations\")\n",
    "plt.ylabel(\"log10 MSE\")\n",
    "for i in range(16,20):\n",
    "    gd3 = grad_descent(x_mat3['matrix'],y_train,0.1**i,100)\n",
    "    plt.plot(gd3['iteration'], np.log10(gd3['mse']),label='rate = 1e-{}'.format(i))\n",
    "plt.legend()\n",
    "#plt.savefig('32.png',dpi=300)"
   ]
  },
  {
   "cell_type": "code",
   "execution_count": 30,
   "metadata": {},
   "outputs": [
    {
     "data": {
      "text/plain": [
       "array([ 0.46466906,  0.04814824, -0.21163878, -0.47689156, -1.1021772 ,\n",
       "        0.05243408, -0.51706551, -0.15634142,  0.81922125, -1.62995483,\n",
       "        0.13774146,  0.22129815,  0.63924855, -0.88840527,  0.59265066,\n",
       "        2.61643856, -0.03705765, -1.44369884,  0.64483909,  0.74695394,\n",
       "       -0.97686382])"
      ]
     },
     "execution_count": 30,
     "metadata": {},
     "output_type": "execute_result"
    }
   ],
   "source": [
    "gd3 = grad_descent(x_mat3['matrix'],y_train,0.1**16,100)\n",
    "w3 = gd3['weight']\n",
    "w3"
   ]
  },
  {
   "cell_type": "code",
   "execution_count": 31,
   "metadata": {},
   "outputs": [
    {
     "data": {
      "text/plain": [
       "9628195119367.512"
      ]
     },
     "execution_count": 31,
     "metadata": {},
     "output_type": "execute_result"
    }
   ],
   "source": [
    "y_gd_train3 = np.matmul(x_mat3['matrix'], w3)\n",
    "SSEtrainGD3 = sum_squere_error(y_gd_train3, y_train)\n",
    "SSEtrainGD3"
   ]
  },
  {
   "cell_type": "code",
   "execution_count": 32,
   "metadata": {},
   "outputs": [
    {
     "data": {
      "text/plain": [
       "12180370540265.457"
      ]
     },
     "execution_count": 32,
     "metadata": {},
     "output_type": "execute_result"
    }
   ],
   "source": [
    "y_gd_test3 = np.matmul(test_mat3['matrix'], w3)\n",
    "SSEtestGD3 = sum_squere_error(y_gd_test3, y_test)\n",
    "SSEtestGD3"
   ]
  },
  {
   "cell_type": "markdown",
   "metadata": {},
   "source": [
    "# c) linear regression"
   ]
  },
  {
   "cell_type": "code",
   "execution_count": 33,
   "metadata": {},
   "outputs": [],
   "source": [
    "def reg_multivar_poly_regression(x, y, l):\n",
    "    r = np.matmul(x.transpose(), x) + l*np.identity(x[0].size)\n",
    "    r[0] -= l\n",
    "    r = np.matmul(np.linalg. inv(r), x.transpose())\n",
    "    w = np.matmul((r),y)\n",
    "    return w"
   ]
  },
  {
   "cell_type": "code",
   "execution_count": 34,
   "metadata": {},
   "outputs": [],
   "source": [
    "def cross_val(x, y, k, l):\n",
    "    SSE_train = 0\n",
    "    SSE_test = 0\n",
    "    n = y.size\n",
    "    m = n//k\n",
    "    temp = [[x[i], y[i]] for i in range(n)]\n",
    "    np.random.shuffle(temp)\n",
    "    local_x = np.array([temp[i][0] for i in range(n)])\n",
    "    local_y = np.array([temp[i][1] for i in range(n)])\n",
    "    \n",
    "    for i in range(0,k):\n",
    "        row_f = i*m\n",
    "        row_l = (i+1)*m\n",
    "        \n",
    "        kth_fold = [j for j in range(row_f,row_l)]\n",
    "        \n",
    "        val_set = local_x[row_f: row_l]\n",
    "        val_set_y = local_y[row_f: row_l]\n",
    "\n",
    "        train_set = np.concatenate((local_x[:row_f], local_x[row_l:]), axis=0)\n",
    "        train_set_y = np.delete(local_y, kth_fold)\n",
    "        \n",
    "        w = reg_multivar_poly_regression(train_set, train_set_y, l)\n",
    "        \n",
    "        y_train_hat = np.matmul(train_set, w)\n",
    "        y_val_hat = np.matmul(val_set, w)\n",
    "        \n",
    "        SSE_train += sum_squere_error(train_set_y, y_train_hat)\n",
    "        SSE_test += sum_squere_error(val_set_y, y_val_hat)\n",
    "        \n",
    "    return {'SSEtrain': SSE_train/k , 'SSEvalidation': SSE_test/k}"
   ]
  },
  {
   "cell_type": "code",
   "execution_count": 35,
   "metadata": {},
   "outputs": [],
   "source": [
    "SSEtrain_c1 = []\n",
    "SSEval_c1 = []\n",
    "for l in range(-4,5):\n",
    "    reg1c = cross_val(x_mat1['matrix'], y_train,5, 10**l)\n",
    "    SSEtrain_c1.append(reg1c['SSEtrain'])\n",
    "    SSEval_c1.append(reg1c['SSEvalidation'])"
   ]
  },
  {
   "cell_type": "code",
   "execution_count": 36,
   "metadata": {},
   "outputs": [
    {
     "data": {
      "image/png": "[encoded data removed]",
      "text/plain": [
       "<Figure size 432x288 with 1 Axes>"
      ]
     },
     "metadata": {
      "needs_background": "light"
     },
     "output_type": "display_data"
    }
   ],
   "source": [
    "plt.plot(range(-4,5), SSEtrain_c1,label='train SSE')\n",
    "plt.plot(range(-4,5), SSEval_c1,label='validation SSE')\n",
    "plt.legend()\n",
    "#plt.savefig('311.png',dpi=300)"
   ]
  },
  {
   "cell_type": "code",
   "execution_count": 37,
   "metadata": {},
   "outputs": [
    {
     "name": "stdout",
     "output_type": "stream",
     "text": [
      "18317759690.367973\n",
      "12944760110.83464\n",
      "14651324730.91531\n",
      "3670043788.025161\n"
     ]
    },
    {
     "data": {
      "text/plain": [
       "array([-4226.06995749,   446.63582031,   537.30126523])"
      ]
     },
     "execution_count": 37,
     "metadata": {},
     "output_type": "execute_result"
    }
   ],
   "source": [
    "reg1c = reg_multivar_poly_regression(x_mat1['matrix'], y_train, 10**-4)\n",
    "y_train_hat = np.matmul(x_mat1['matrix'], reg1c)\n",
    "y_test_hat = np.matmul(test_mat1['matrix'], reg1c)\n",
    "SSEtrainc1 = sum_squere_error(y_train, y_train_hat)\n",
    "SSEtestc1 = sum_squere_error(y_test, y_test_hat)\n",
    "print(SSEtrainc1)\n",
    "print(SSEtestc1)\n",
    "print(SSEtrain_c1[0])\n",
    "print(SSEval_c1[0])\n",
    "reg1c"
   ]
  },
  {
   "cell_type": "markdown",
   "metadata": {},
   "source": [
    "# c) 3rd degree polynomial regression¶"
   ]
  },
  {
   "cell_type": "code",
   "execution_count": 38,
   "metadata": {},
   "outputs": [],
   "source": [
    "SSEtrain_c2 = []\n",
    "SSEval_c2 = []\n",
    "for l in range(-4,5):\n",
    "    reg2c = cross_val(x_mat2['matrix'], y_train,5, 10**l)\n",
    "    SSEtrain_c2.append(reg2c['SSEtrain'])\n",
    "    SSEval_c2.append(reg2c['SSEvalidation'])"
   ]
  },
  {
   "cell_type": "code",
   "execution_count": 39,
   "metadata": {},
   "outputs": [
    {
     "data": {
      "image/png": "[encoded data removed]",
      "text/plain": [
       "<Figure size 432x288 with 1 Axes>"
      ]
     },
     "metadata": {
      "needs_background": "light"
     },
     "output_type": "display_data"
    }
   ],
   "source": [
    "plt.plot(range(-4,5), SSEtrain_c2,label='train SSE')\n",
    "plt.plot(range(-4,5), SSEval_c2,label='validation SSE')\n",
    "plt.legend()\n",
    "#plt.savefig('312.png',dpi=300)"
   ]
  },
  {
   "cell_type": "code",
   "execution_count": 40,
   "metadata": {},
   "outputs": [
    {
     "name": "stdout",
     "output_type": "stream",
     "text": [
      "9.982392722555469e-09\n",
      "9.515612484722473e-09\n",
      "1.2507476793264266e-08\n",
      "3.1444955092089305e-09\n"
     ]
    },
    {
     "data": {
      "text/plain": [
       "array([ 1.00000981e+00, -1.67709653e-06,  2.00000010e+00, -2.09853337e-09,\n",
       "        2.99999607e+00,  2.76810333e-07,  3.99999999e+00,  5.33582871e-07,\n",
       "       -1.32669097e-08, -2.36764245e-08])"
      ]
     },
     "execution_count": 40,
     "metadata": {},
     "output_type": "execute_result"
    }
   ],
   "source": [
    "reg2c = reg_multivar_poly_regression(x_mat2['matrix'], y_train, 10**-4)\n",
    "y_train_hat = np.matmul(x_mat2['matrix'], reg2c)\n",
    "y_test_hat = np.matmul(test_mat2['matrix'], reg2c)\n",
    "SSEtrainc2 = sum_squere_error(y_train, y_train_hat)\n",
    "SSEtestc2 = sum_squere_error(y_test, y_test_hat)\n",
    "print(SSEtrainc2)\n",
    "print(SSEtestc2)\n",
    "print(SSEtrain_c2[0])\n",
    "print(SSEval_c2[0])\n",
    "reg2c"
   ]
  },
  {
   "cell_type": "markdown",
   "metadata": {},
   "source": [
    "# c) 5th degree polynomial regression"
   ]
  },
  {
   "cell_type": "code",
   "execution_count": 41,
   "metadata": {},
   "outputs": [],
   "source": [
    "SSEtrain_c3 = []\n",
    "SSEval_c3 = []\n",
    "for l in range(-4,5):\n",
    "    reg3c = cross_val(x_mat3['matrix'], y_train,5, 10**l)\n",
    "    SSEtrain_c3.append(reg3c['SSEtrain'])\n",
    "    SSEval_c3.append(reg3c['SSEvalidation'])"
   ]
  },
  {
   "cell_type": "code",
   "execution_count": 42,
   "metadata": {},
   "outputs": [
    {
     "data": {
      "image/png": "[encoded data removed]",
      "text/plain": [
       "<Figure size 432x288 with 1 Axes>"
      ]
     },
     "metadata": {
      "needs_background": "light"
     },
     "output_type": "display_data"
    }
   ],
   "source": [
    "plt.plot(range(-4,5), SSEtrain_c3,label='train SSE')\n",
    "plt.plot(range(-4,5), SSEval_c3,label='validation SSE')\n",
    "plt.legend()\n",
    "#plt.savefig('313.png',dpi=300)"
   ]
  },
  {
   "cell_type": "code",
   "execution_count": 43,
   "metadata": {},
   "outputs": [
    {
     "name": "stdout",
     "output_type": "stream",
     "text": [
      "1.6958291308018977e-06\n",
      "9.57101909929323e-06\n",
      "6.495571521099052e-06\n",
      "1.647542130942108e-06\n"
     ]
    },
    {
     "data": {
      "text/plain": [
       "array([ 1.00010918e+00, -8.92428231e-05,  2.00002674e+00, -3.37251546e-06,\n",
       "        1.84798952e-07, -3.64004502e-09,  2.99994432e+00,  1.11192821e-05,\n",
       "        3.99999894e+00,  4.95376987e-08, -8.83475505e-10,  1.85164678e-05,\n",
       "       -1.70572619e-06,  7.06013821e-08, -1.14270759e-09, -3.06571614e-06,\n",
       "        1.37700855e-07, -2.11165419e-09,  2.43517660e-07, -4.34835093e-09,\n",
       "       -7.42576395e-09])"
      ]
     },
     "execution_count": 43,
     "metadata": {},
     "output_type": "execute_result"
    }
   ],
   "source": [
    "reg3c = reg_multivar_poly_regression(x_mat3['matrix'], y_train, 10**-4)\n",
    "y_train_hat = np.matmul(x_mat3['matrix'], reg3c)\n",
    "y_test_hat = np.matmul(test_mat3['matrix'], reg3c)\n",
    "SSEtrainc3 = sum_squere_error(y_train, y_train_hat)\n",
    "SSEtestc3 = sum_squere_error(y_test, y_test_hat)\n",
    "print(SSEtrainc3)\n",
    "print(SSEtestc3)\n",
    "print(SSEtrain_c3[0])\n",
    "print(SSEval_c3[0])\n",
    "reg3c"
   ]
  },
  {
   "cell_type": "code",
   "execution_count": null,
   "metadata": {},
   "outputs": [],
   "source": []
  }
 ],
 "metadata": {
  "kernelspec": {
   "display_name": "Python 3",
   "language": "python",
   "name": "python3"
  },
  "language_info": {
   "codemirror_mode": {
    "name": "ipython",
    "version": 3
   },
   "file_extension": ".py",
   "mimetype": "text/x-python",
   "name": "python",
   "nbconvert_exporter": "python",
   "pygments_lexer": "ipython3",
   "version": "3.8.2"
  }
 },
 "nbformat": 4,
 "nbformat_minor": 4
}
